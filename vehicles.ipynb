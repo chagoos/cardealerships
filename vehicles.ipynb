{
 "cells": [
  {
   "cell_type": "markdown",
   "id": "d8f2748b",
   "metadata": {},
   "source": [
    "# CRISP-DM Applied to Used Car Pricing\n",
    "\n",
    "This notebook follows the CRISP-DM framework to analyze `vehicles.csv` and determine what factors influence used car prices. Deliverables include exploratory data analysis, data preparation, modeling, evaluation, and recommendations for a used car dealership.\n",
    "\n",
    "**File used:** `/mnt/data/vehicles.csv`"
   ]
  },
  {
   "cell_type": "markdown",
   "id": "c99b5f9e",
   "metadata": {},
   "source": [
    "## 1. Business Understanding\n",
    "\n",
    "- **Objective:** Identify the factors that make a car more or less expensive and produce recommendations for inventory decisions at a used car dealership.\n",
    "- **Success criteria:** A predictive model that reasonably explains price variation and a clear set of factors (feature importances / coefficients) that dealers can apply.\n"
   ]
  },
  {
   "cell_type": "code",
   "execution_count": null,
   "id": "e969006a",
   "metadata": {},
   "outputs": [],
   "source": [
    "import pandas as pd\n",
    "from pathlib import Path\n",
    "\n",
    "csv_path = Path('/mnt/data/vehicles.csv')\n",
    "df = pd.read_csv(csv_path)\n",
    "df.shape\n"
   ]
  },
  {
   "cell_type": "code",
   "execution_count": null,
   "id": "032b7990",
   "metadata": {},
   "outputs": [],
   "source": [
    "df.head()\n"
   ]
  },
  {
   "cell_type": "code",
   "execution_count": null,
   "id": "032d5911",
   "metadata": {},
   "outputs": [],
   "source": [
    "df.info()\n"
   ]
  },
  {
   "cell_type": "code",
   "execution_count": null,
   "id": "99addd23",
   "metadata": {},
   "outputs": [],
   "source": [
    "import numpy as np\n",
    "\n",
    "missing = df.isnull().mean().sort_values(ascending=False)\n",
    "missing[missing>0].head(20)\n"
   ]
  },
  {
   "cell_type": "code",
   "execution_count": null,
   "id": "a7e68832",
   "metadata": {},
   "outputs": [],
   "source": [
    "df.describe(include='all').T\n"
   ]
  },
  {
   "cell_type": "markdown",
   "id": "af4c9595",
   "metadata": {},
   "source": [
    "## 3. Data Preparation\n",
    "\n",
    "- Remove rows with missing or zero price\n",
    "- Create `age` feature from `year`\n",
    "- Clean `odometer` and remove extreme outliers\n",
    "- Keep a subset of relevant categorical features and reduce high-cardinality categories\n"
   ]
  },
  {
   "cell_type": "code",
   "execution_count": null,
   "id": "4e1b479a",
   "metadata": {},
   "outputs": [],
   "source": [
    "# Basic cleaning\n",
    "import numpy as np\n",
    "\n",
    "# copy\n",
    "cars = df.copy()\n",
    "# Ensure price column exists\n",
    "if 'price' not in cars.columns:\n",
    "    raise KeyError('price column not found in dataset')\n",
    "\n",
    "# Drop rows with missing or non-positive price\n",
    "cars = cars[cars['price'].notna()]\n",
    "cars = cars[cars['price']>0]\n",
    "\n",
    "# Year -> age (use 2025 as reference if year present; adjust if needed)\n",
    "current_year = 2025\n",
    "if 'year' in cars.columns:\n",
    "    cars['age'] = current_year - cars['year']\n",
    "    # remove unrealistic ages\n",
    "    cars = cars[(cars['age']>=0) & (cars['age']<=120)]\n",
    "\n",
    "# Clean odometer\n",
    "if 'odometer' in cars.columns:\n",
    "    cars = cars[cars['odometer'].notna()]\n",
    "    cars = cars[cars['odometer']>=0]\n",
    "\n",
    "# Keep relevant columns if present\n",
    "candidate_cols = ['price','year','age','manufacturer','model','condition','cylinders','fuel','odometer',\n",
    "                  'title_status','transmission','drive','size','type','paint_color','state']\n",
    "existing_cols = [c for c in candidate_cols if c in cars.columns]\n",
    "cars = cars[existing_cols]\n",
    "\n",
    "print('shape after basic cleaning:', cars.shape)\n",
    "cars.head()\n"
   ]
  },
  {
   "cell_type": "code",
   "execution_count": null,
   "id": "a63e8dc8",
   "metadata": {},
   "outputs": [],
   "source": [
    "# Handle price distribution: log-transform and remove extreme outliers\n",
    "import numpy as np\n",
    "\n",
    "cars = cars.copy()\n",
    "# remove top 0.5% and bottom 0.5% by price to reduce extreme influence\n",
    "low_q, high_q = cars['price'].quantile(0.005), cars['price'].quantile(0.995)\n",
    "cars = cars[(cars['price']>=low_q) & (cars['price']<=high_q)]\n",
    "\n",
    "cars['log_price'] = np.log1p(cars['price'])\n",
    "\n",
    "cars[['price','log_price']].describe().T\n"
   ]
  },
  {
   "cell_type": "code",
   "execution_count": null,
   "id": "2cb83fc6",
   "metadata": {},
   "outputs": [],
   "source": [
    "# Feature engineering\n",
    "\n",
    "# Reduce manufacturer to top 20, rest -> 'other'\n",
    "if 'manufacturer' in cars.columns:\n",
    "    top_man = cars['manufacturer'].value_counts().nlargest(20).index\n",
    "    cars['manufacturer_simple'] = cars['manufacturer'].where(cars['manufacturer'].isin(top_man),'other')\n",
    "\n",
    "# Age buckets\n",
    "if 'age' in cars.columns:\n",
    "    cars['age_bucket'] = pd.cut(cars['age'], bins=[-1,1,3,7,12,20,100], labels=['0-1','2-3','4-7','8-12','13-20','21+'])\n",
    "\n",
    "# Odometer buckets\n",
    "if 'odometer' in cars.columns:\n",
    "    cars['odo_bucket'] = pd.cut(cars['odometer'], bins=[-1,5000,20000,50000,100000,200000,1e9],\n",
    "                                 labels=['0-5k','5k-20k','20k-50k','50k-100k','100k-200k','200k+'])\n",
    "\n",
    "cars[['manufacturer_simple','age_bucket','odo_bucket']].head()\n"
   ]
  },
  {
   "cell_type": "code",
   "execution_count": null,
   "id": "f6af78bb",
   "metadata": {},
   "outputs": [],
   "source": [
    "# Prepare dataset for modeling\n",
    "from sklearn.model_selection import train_test_split\n",
    "\n",
    "modeling_cols = ['log_price']\n",
    "# pick a manageable set of predictors\n",
    "predictors = []\n",
    "for c in ['manufacturer_simple','condition','cylinders','fuel','title_status','transmission','drive','size','type','paint_color','age_bucket','odo_bucket']:\n",
    "    if c in cars.columns:\n",
    "        predictors.append(c)\n",
    "\n",
    "print('Predictors used:', predictors)\n",
    "\n",
    "# Drop rows with NA in predictors\n",
    "model_df = cars[['log_price'] + predictors].dropna()\n",
    "print('modeling rows:', model_df.shape[0])\n",
    "\n",
    "# One-hot encode categoricals (limit dummy columns by only taking top levels for high-cardinality)\n",
    "# For columns with many categories, keep top 10 levels\n",
    "def top_n_dummies(df, col, n=10):\n",
    "    top = df[col].value_counts().nlargest(n).index\n",
    "    return pd.get_dummies(df[col].where(df[col].isin(top),'other'), prefix=col, drop_first=True)\n",
    "\n",
    "X_parts = []\n",
    "for c in predictors:\n",
    "    # treat categorical\n",
    "    X_parts.append(top_n_dummies(model_df, c, n=10))\n",
    "\n",
    "X = pd.concat(X_parts, axis=1)\n",
    "y = model_df['log_price']\n",
    "\n",
    "X_train, X_test, y_train, y_test = train_test_split(X, y, test_size=0.2, random_state=42)\n",
    "print('X shape:', X.shape)\n"
   ]
  },
  {
   "cell_type": "code",
   "execution_count": null,
   "id": "6171c928",
   "metadata": {},
   "outputs": [],
   "source": [
    "# Modeling: Linear Regression and RandomForest\n",
    "from sklearn.linear_model import LinearRegression\n",
    "from sklearn.ensemble import RandomForestRegressor\n",
    "from sklearn.metrics import mean_squared_error, r2_score\n",
    "\n",
    "lr = LinearRegression()\n",
    "lr.fit(X_train, y_train)\n",
    "y_pred_lr = lr.predict(X_test)\n",
    "\n",
    "rf = RandomForestRegressor(n_estimators=100, random_state=42, n_jobs=-1)\n",
    "rf.fit(X_train, y_train)\n",
    "y_pred_rf = rf.predict(X_test)\n",
    "\n",
    "# Metrics\n",
    "import numpy as np\n",
    "\n",
    "def metrics(y_true, y_pred):\n",
    "    mse = mean_squared_error(y_true, y_pred)\n",
    "    rmse = np.sqrt(mse)\n",
    "    r2 = r2_score(y_true, y_pred)\n",
    "    return {'rmse': rmse, 'r2': r2}\n",
    "\n",
    "m_lr = metrics(y_test, y_pred_lr)\n",
    "m_rf = metrics(y_test, y_pred_rf)\n",
    "\n",
    "m_lr, m_rf\n"
   ]
  },
  {
   "cell_type": "code",
   "execution_count": null,
   "id": "990e5c9e",
   "metadata": {},
   "outputs": [],
   "source": [
    "# Feature importances (Random Forest) and Linear Regression coefficients\n",
    "\n",
    "# RF importances\n",
    "importances = pd.Series(rf.feature_importances_, index=X.columns).sort_values(ascending=False)\n",
    "importances.head(20)\n",
    "\n",
    "# LR coefficients (show top positive/negative)\n",
    "coef = pd.Series(lr.coef_, index=X.columns).sort_values(ascending=False)\n",
    "pd.DataFrame({'coef': coef}).head(20)\n"
   ]
  },
  {
   "cell_type": "code",
   "execution_count": null,
   "id": "389adc67",
   "metadata": {},
   "outputs": [],
   "source": [
    "# Evaluate predictions on original price scale\n",
    "\n",
    "# Convert from log back to price\n",
    "y_test_price = np.expm1(y_test)\n",
    "y_pred_rf_price = np.expm1(y_pred_rf)\n",
    "\n",
    "# Print sample comparisons\n",
    "pd.DataFrame({'actual_price': y_test_price, 'pred_price_rf': y_pred_rf_price}).head(10)\n",
    "\n",
    "# Compute RMSE in dollars for RF\n",
    "from sklearn.metrics import mean_squared_error\n",
    "rmse_dollars = np.sqrt(mean_squared_error(y_test_price, y_pred_rf_price))\n",
    "rmse_dollars\n"
   ]
  },
  {
   "cell_type": "markdown",
   "id": "b5485d0b",
   "metadata": {},
   "source": [
    "## 5. Evaluation & Recommendations\n",
    "\n",
    "Based on the model results and feature importances:\n",
    "\n",
    "- Highlight which features increase price most (manufacturer, condition, low mileage, newer age) and which lower price (high mileage, poor condition, salvage title).  \n",
    "- Recommendation to dealership: prioritize acquiring vehicles from strong manufacturers and in good/excellent condition, and advertise low mileage and recent model years prominently.  \n",
    "- Consider price segmentation strategies by age bucket and mileage bucket to optimize listing and pricing strategies.\n",
    "\n"
   ]
  },
  {
   "cell_type": "code",
   "execution_count": null,
   "id": "79fa4d02",
   "metadata": {},
   "outputs": [],
   "source": [
    "# Save a smaller cleaned sample for review\n",
    "clean_sample_path = Path('/mnt/data/vehicles_clean_sample.csv')\n",
    "model_df.sample(n=min(5000, model_df.shape[0]), random_state=42).to_csv(clean_sample_path, index=False)\n",
    "print('Saved sample to', clean_sample_path)\n"
   ]
  }
 ],
 "metadata": {
  "language_info": {
   "name": "python"
  }
 },
 "nbformat": 4,
 "nbformat_minor": 5
}
